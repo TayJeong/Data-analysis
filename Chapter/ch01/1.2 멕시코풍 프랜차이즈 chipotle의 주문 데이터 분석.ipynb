{
 "cells": [
  {
   "cell_type": "markdown",
   "source": [
    "# 멕시코풍 프랜차이즈 chipotle 주문 데이터 분석\n",
    "\n",
    "[데이터 셋 다운로드](https://drive.google.com/drive/folders/1vgh_YlGJhttIR-4_39VvBq5YEtJFDSBq?usp=sharing)"
   ],
   "metadata": {
    "collapsed": false
   }
  },
  {
   "cell_type": "markdown",
   "source": [
    "## 데이터 불러오기\n",
    "\n",
    "pandas 라이브러리를 활용해 데이터를 읽어 오자.\n",
    "\n",
    "```pd.read_csv(file_path, sep=, encoding=)```이런 형태 2번 3번 변수는 생략 가능함\n",
    "\n",
    "<p>\n",
    "\n",
    ">sep의 경우 구분자를 의미\n",
    ">encoding은 글자 깨짐 방지 같은 역할임 한글의 경우 cp949를 대부분 사용한다고 함"
   ],
   "metadata": {
    "collapsed": false
   }
  },
  {
   "cell_type": "code",
   "execution_count": 1,
   "outputs": [
    {
     "name": "stdout",
     "output_type": "stream",
     "text": [
      "(4622, 5)\n",
      "<class 'pandas.core.frame.DataFrame'>\n",
      "RangeIndex: 4622 entries, 0 to 4621\n",
      "Data columns (total 5 columns):\n",
      " #   Column              Non-Null Count  Dtype \n",
      "---  ------              --------------  ----- \n",
      " 0   order_id            4622 non-null   int64 \n",
      " 1   quantity            4622 non-null   int64 \n",
      " 2   item_name           4622 non-null   object\n",
      " 3   choice_description  3376 non-null   object\n",
      " 4   item_price          4622 non-null   object\n",
      "dtypes: int64(2), object(3)\n",
      "memory usage: 180.7+ KB\n",
      "None\n"
     ]
    }
   ],
   "source": [
    "import pandas as pd\n",
    "\n",
    "file_path = \"data/chipotle.tsv\"\n",
    "\n",
    "df_chipotle = pd.read_csv(file_path, sep='\\t') # tap을 기준으로 나눠서 데이터 가져옴\n",
    "print(df_chipotle.shape) # 행과 열의 수 반환\n",
    "print(df_chipotle.info()) # 행의 구성, 열의 구성 정보를 나타냄(데이터 타입 같은 것.)\n",
    "# 보면 order_id, quantity는 int64 , 나머지 3가지는 object타입임.(거의 문자열 의미)\n",
    "# choice_description 항목은 총 데이터 4622개 중 3376의 데이터가 존재한다는 것이고 1246개의 결측 데이터가 존재 한다는 의미"
   ],
   "metadata": {
    "collapsed": false,
    "pycharm": {
     "name": "#%%\n"
    }
   }
  },
  {
   "cell_type": "code",
   "execution_count": 2,
   "outputs": [
    {
     "data": {
      "text/plain": "   order_id  quantity                              item_name  \\\n0         1         1           Chips and Fresh Tomato Salsa   \n1         1         1                                   Izze   \n2         1         1                       Nantucket Nectar   \n3         1         1  Chips and Tomatillo-Green Chili Salsa   \n4         2         2                           Chicken Bowl   \n\n                                  choice_description item_price  \n0                                                NaN     $2.39   \n1                                       [Clementine]     $3.39   \n2                                            [Apple]     $3.39   \n3                                                NaN     $2.39   \n4  [Tomatillo-Red Chili Salsa (Hot), [Black Beans...    $16.98   ",
      "text/html": "<div>\n<style scoped>\n    .dataframe tbody tr th:only-of-type {\n        vertical-align: middle;\n    }\n\n    .dataframe tbody tr th {\n        vertical-align: top;\n    }\n\n    .dataframe thead th {\n        text-align: right;\n    }\n</style>\n<table border=\"1\" class=\"dataframe\">\n  <thead>\n    <tr style=\"text-align: right;\">\n      <th></th>\n      <th>order_id</th>\n      <th>quantity</th>\n      <th>item_name</th>\n      <th>choice_description</th>\n      <th>item_price</th>\n    </tr>\n  </thead>\n  <tbody>\n    <tr>\n      <th>0</th>\n      <td>1</td>\n      <td>1</td>\n      <td>Chips and Fresh Tomato Salsa</td>\n      <td>NaN</td>\n      <td>$2.39</td>\n    </tr>\n    <tr>\n      <th>1</th>\n      <td>1</td>\n      <td>1</td>\n      <td>Izze</td>\n      <td>[Clementine]</td>\n      <td>$3.39</td>\n    </tr>\n    <tr>\n      <th>2</th>\n      <td>1</td>\n      <td>1</td>\n      <td>Nantucket Nectar</td>\n      <td>[Apple]</td>\n      <td>$3.39</td>\n    </tr>\n    <tr>\n      <th>3</th>\n      <td>1</td>\n      <td>1</td>\n      <td>Chips and Tomatillo-Green Chili Salsa</td>\n      <td>NaN</td>\n      <td>$2.39</td>\n    </tr>\n    <tr>\n      <th>4</th>\n      <td>2</td>\n      <td>2</td>\n      <td>Chicken Bowl</td>\n      <td>[Tomatillo-Red Chili Salsa (Hot), [Black Beans...</td>\n      <td>$16.98</td>\n    </tr>\n  </tbody>\n</table>\n</div>"
     },
     "execution_count": 2,
     "metadata": {},
     "output_type": "execute_result"
    }
   ],
   "source": [
    "df_chipotle.head()"
   ],
   "metadata": {
    "collapsed": false,
    "pycharm": {
     "name": "#%%\n"
    }
   }
  },
  {
   "cell_type": "code",
   "execution_count": 3,
   "outputs": [
    {
     "name": "stdout",
     "output_type": "stream",
     "text": [
      "Index(['order_id', 'quantity', 'item_name', 'choice_description',\n",
      "       'item_price'],\n",
      "      dtype='object')\n",
      "==============================================\n",
      "RangeIndex(start=0, stop=4622, step=1)\n"
     ]
    }
   ],
   "source": [
    "print(df_chipotle.columns)\n",
    "print(\"==============================================\")\n",
    "print(df_chipotle.index)"
   ],
   "metadata": {
    "collapsed": false,
    "pycharm": {
     "name": "#%%\n"
    }
   }
  },
  {
   "cell_type": "markdown",
   "source": [
    "이제 데이터 셋의 피처의 의미는 파악 되었다.\n",
    "\n",
    "- order_id : 주문 번호\n",
    "- quantity : 아이템의 주문 수량\n",
    "- item_name : 주문한 아이템의 이름\n",
    "- choice_description : 주문한 아이템의 상세 선택 옵션\n",
    "- item_price : 주문 아이템의 가격 정보\n"
   ],
   "metadata": {
    "collapsed": false
   }
  },
  {
   "cell_type": "markdown",
   "source": [
    "## 피처의 수치적 특징\n",
    "\n",
    "quantity, item_price의 수치적 특징을 살펴보면 키, 몸무게 같은 어떤 구간의 모든 값을 데이터로 가질 수 있는 **연속형 피처**이다.\n",
    "\n",
    "피처 형태의 종류\n",
    "\n",
    "**수치형 피처**\n",
    "\n",
    "명칭|특징|예시\n",
    "-----|----|----|\n",
    "연속형 피처|어떤 구간 안의 모든 값을 데이터로 가질 수 있다.|키 몸무게\n",
    "비연속형 피처|셀 수 있으며, 일정 구간 안에서 정해진 몇 개의 값을 가져야 한다|나이\n",
    "\n",
    "\n",
    "**범주형 피처**\n",
    "\n",
    "명칭|특징|예시\n",
    "-----|----|----|\n",
    "순서가 있는 범주형 피처|순서가 있으나 수치는 아님.|학점(A,B,C,D...)\n",
    "순서가 없는 범주형 피처|데이터가 구분되면서도 순서가 없음|혈액형"
   ],
   "metadata": {
    "collapsed": false
   }
  },
  {
   "cell_type": "markdown",
   "source": [
    "### 기초 통계량 파악\n",
    "\n",
    "```dscribe()```를 통해서 기초 통계량 파악가능 (단, 수치형 피처 And 정수형)"
   ],
   "metadata": {
    "collapsed": false
   }
  },
  {
   "cell_type": "code",
   "execution_count": 4,
   "outputs": [
    {
     "name": "stdout",
     "output_type": "stream",
     "text": [
      "          quantity\n",
      "count  4622.000000\n",
      "mean      1.075725\n",
      "std       0.410186\n",
      "min       1.000000\n",
      "25%       1.000000\n",
      "50%       1.000000\n",
      "75%       1.000000\n",
      "max      15.000000\n"
     ]
    }
   ],
   "source": [
    "df_chipotle['order_id'] = df_chipotle['order_id'].astype(str)\n",
    "print(df_chipotle.describe())"
   ],
   "metadata": {
    "collapsed": false,
    "pycharm": {
     "name": "#%%\n"
    }
   }
  },
  {
   "cell_type": "markdown",
   "source": [
    "위에 통계를 보고 알 수 있는 점은?\n",
    "\n",
    "mean(평균)값이 1.075임 이걸 통해서 알 수 있는건?\n",
    "~~한 사람이 같은 메뉴를 여러개 구매하는 경우는 많지 않다(?)~~"
   ],
   "metadata": {
    "collapsed": false
   }
  },
  {
   "cell_type": "code",
   "execution_count": 5,
   "outputs": [
    {
     "name": "stdout",
     "output_type": "stream",
     "text": [
      "1834\n",
      "50\n"
     ]
    }
   ],
   "source": [
    "print(len(df_chipotle['order_id'].unique())) # order_id의 개수를 출력\n",
    "print(len(df_chipotle['item_name'].unique()))"
   ],
   "metadata": {
    "collapsed": false,
    "pycharm": {
     "name": "#%%\n"
    }
   }
  },
  {
   "cell_type": "markdown",
   "source": [
    "## 탐색과 시각화\n",
    "\n",
    "가장 많이 주문한 메뉴 Top 10을 분석해보자\n",
    "\n",
    "```value_counts()```는 유일한 값별 개수를 반환함 기본 적으로 내림차순으로 반환(오름차순은 ascending=True)\n",
    "\n",
    "```iteritmems()```는 딕셔너리로 부를 수 있는 함수임 키 값과 벨류 값의 리스트를 가져옴\n",
    "\n",
    "```enumerate()```는 인덱스 번호, 값을 쌍으로 출력함"
   ],
   "metadata": {
    "collapsed": false
   }
  },
  {
   "cell_type": "code",
   "execution_count": 6,
   "outputs": [],
   "source": [
    "def value_count(df, colname, stop):\n",
    "    '''\n",
    "    가장 많이 주문한 아이템 TopN 출력하는 메서드\n",
    "    :param df: 데이터 프레임\n",
    "    :param colname: 컬럼명(피처)\n",
    "    :param stop: n 번째\n",
    "    :return: TopN 항목 출력\n",
    "    '''\n",
    "\n",
    "    item_count = df[colname].value_counts()[:stop] # 데이터 프레임의 colname 각 항목 갯수 stop까지 가져옴\n",
    "    for idx, (val, cnt) in enumerate(item_count.iteritems(), 1):\n",
    "        print(f\"Top{idx} : {val} {cnt}\")"
   ],
   "metadata": {
    "collapsed": false,
    "pycharm": {
     "name": "#%%\n"
    }
   }
  },
  {
   "cell_type": "code",
   "execution_count": 7,
   "outputs": [
    {
     "name": "stdout",
     "output_type": "stream",
     "text": [
      "Top1 : Chicken Bowl 726\n",
      "Top2 : Chicken Burrito 553\n",
      "Top3 : Chips and Guacamole 479\n",
      "Top4 : Steak Burrito 368\n",
      "Top5 : Canned Soft Drink 301\n",
      "Top6 : Steak Bowl 211\n",
      "Top7 : Chips 211\n",
      "Top8 : Bottled Water 162\n",
      "Top9 : Chicken Soft Tacos 115\n",
      "Top10 : Chips and Fresh Tomato Salsa 110\n"
     ]
    }
   ],
   "source": [
    "value_count(df_chipotle, 'item_name', 10)"
   ],
   "metadata": {
    "collapsed": false,
    "pycharm": {
     "name": "#%%\n"
    }
   }
  },
  {
   "cell_type": "markdown",
   "source": [
    "## 아이템별 주문 개수와 총량\n",
    "\n",
    "```groupby()```는 데이터 프레임에서 특정 피처를 기준으로 그룹을 생성하며 이를 통해 그룹별 연산을 적용할 수 있음"
   ],
   "metadata": {
    "collapsed": false
   }
  },
  {
   "cell_type": "code",
   "execution_count": 18,
   "outputs": [],
   "source": [
    "def item_group_count(df, groupname, colname, option, stop):\n",
    "    '''\n",
    "    아이템 그룹별 통계 구하기\n",
    "    :param df: 데이터 프레임\n",
    "    :param groupname: 그룹 기준\n",
    "    :param colname: 컬럼명\n",
    "    :param stop: N번째\n",
    "    '''\n",
    "    if option == 'count':\n",
    "        item_group_counts = df.groupby(groupname)[colname].count()\n",
    "        print(item_group_counts[:stop])\n",
    "    elif option == \"sum\":\n",
    "        item_group_counts = df.groupby(groupname)[colname].sum()\n",
    "        print(item_group_counts[:stop])"
   ],
   "metadata": {
    "collapsed": false,
    "pycharm": {
     "name": "#%%\n"
    }
   }
  },
  {
   "cell_type": "code",
   "execution_count": 19,
   "outputs": [
    {
     "name": "stdout",
     "output_type": "stream",
     "text": [
      "item_name\n",
      "6 Pack Soft Drink         54\n",
      "Barbacoa Bowl             66\n",
      "Barbacoa Burrito          91\n",
      "Barbacoa Crispy Tacos     11\n",
      "Barbacoa Salad Bowl       10\n",
      "Barbacoa Soft Tacos       25\n",
      "Bottled Water            162\n",
      "Bowl                       2\n",
      "Burrito                    6\n",
      "Canned Soda              104\n",
      "Name: order_id, dtype: int64\n"
     ]
    }
   ],
   "source": [
    "item_group_count(df_chipotle, 'item_name', 'order_id', \"count\", 10)"
   ],
   "metadata": {
    "collapsed": false,
    "pycharm": {
     "name": "#%%\n"
    }
   }
  },
  {
   "cell_type": "code",
   "execution_count": 20,
   "outputs": [
    {
     "name": "stdout",
     "output_type": "stream",
     "text": [
      "item_name\n",
      "6 Pack Soft Drink         55\n",
      "Barbacoa Bowl             66\n",
      "Barbacoa Burrito          91\n",
      "Barbacoa Crispy Tacos     12\n",
      "Barbacoa Salad Bowl       10\n",
      "Barbacoa Soft Tacos       25\n",
      "Bottled Water            211\n",
      "Bowl                       4\n",
      "Burrito                    6\n",
      "Canned Soda              126\n",
      "Name: quantity, dtype: int64\n"
     ]
    }
   ],
   "source": [
    "item_group_count(df_chipotle, 'item_name', 'quantity', \"sum\", 10)"
   ],
   "metadata": {
    "collapsed": false,
    "pycharm": {
     "name": "#%%\n"
    }
   }
  }
 ],
 "metadata": {
  "kernelspec": {
   "display_name": "Python 3",
   "language": "python",
   "name": "python3"
  },
  "language_info": {
   "codemirror_mode": {
    "name": "ipython",
    "version": 2
   },
   "file_extension": ".py",
   "mimetype": "text/x-python",
   "name": "python",
   "nbconvert_exporter": "python",
   "pygments_lexer": "ipython2",
   "version": "2.7.6"
  }
 },
 "nbformat": 4,
 "nbformat_minor": 0
}