{
 "cells": [
  {
   "cell_type": "markdown",
   "source": [
    "# 멕시코풍 프랜차이즈 chipotle 주문 데이터 분석\n",
    "\n",
    "[데이터 셋 다운로드](https://drive.google.com/drive/folders/1vgh_YlGJhttIR-4_39VvBq5YEtJFDSBq?usp=sharing)"
   ],
   "metadata": {
    "collapsed": false
   }
  },
  {
   "cell_type": "markdown",
   "source": [
    "## 데이터 불러오기\n",
    "\n",
    "pandas 라이브러리를 활용해 데이터를 읽어 오자.\n",
    "\n",
    "```pd.read_csv(file_path, sep=, encoding=)```이런 형태 2번 3번 변수는 생략 가능함\n",
    "\n",
    "<p>\n",
    "\n",
    ">sep의 경우 구분자를 의미\n",
    ">encoding은 글자 깨짐 방지 같은 역할임 한글의 경우 cp949를 대부분 사용한다고 함"
   ],
   "metadata": {
    "collapsed": false
   }
  },
  {
   "cell_type": "code",
   "execution_count": 1,
   "outputs": [
    {
     "name": "stdout",
     "output_type": "stream",
     "text": [
      "(4622, 5)\n",
      "<class 'pandas.core.frame.DataFrame'>\n",
      "RangeIndex: 4622 entries, 0 to 4621\n",
      "Data columns (total 5 columns):\n",
      " #   Column              Non-Null Count  Dtype \n",
      "---  ------              --------------  ----- \n",
      " 0   order_id            4622 non-null   int64 \n",
      " 1   quantity            4622 non-null   int64 \n",
      " 2   item_name           4622 non-null   object\n",
      " 3   choice_description  3376 non-null   object\n",
      " 4   item_price          4622 non-null   object\n",
      "dtypes: int64(2), object(3)\n",
      "memory usage: 180.7+ KB\n",
      "None\n"
     ]
    }
   ],
   "source": [
    "import pandas as pd\n",
    "\n",
    "file_path = \"C:\\\\Users\\\\pwjdg\\\\바탕 화면\\\\Data-analysis\\\\data\\\\chipotle.tsv\"\n",
    "\n",
    "df_chipotle = pd.read_csv(file_path, sep='\\t') # tap을 기준으로 나눠서 데이터 가져옴\n",
    "print(df_chipotle.shape) # 행과 열의 수 반환\n",
    "print(df_chipotle.info()) # 행의 구성, 열의 구성 정보를 나타냄(데이터 타입 같은 것.)\n",
    "# 보면 order_id, quantity는 int64 , 나머지 3가지는 object타입임.(거의 문자열 의미)\n",
    "# choice_description 항목은 총 데이터 4622개 중 3376의 데이터가 존재한다는 것이고 1246개의 결측 데이터가 존재 한다는 의미"
   ],
   "metadata": {
    "collapsed": false,
    "pycharm": {
     "name": "#%%\n"
    }
   }
  },
  {
   "cell_type": "code",
   "execution_count": 2,
   "outputs": [
    {
     "data": {
      "text/plain": "      order_id  quantity                              item_name  \\\n0            1         1           Chips and Fresh Tomato Salsa   \n1            1         1                                   Izze   \n2            1         1                       Nantucket Nectar   \n3            1         1  Chips and Tomatillo-Green Chili Salsa   \n4            2         2                           Chicken Bowl   \n...        ...       ...                                    ...   \n4617      1833         1                          Steak Burrito   \n4618      1833         1                          Steak Burrito   \n4619      1834         1                     Chicken Salad Bowl   \n4620      1834         1                     Chicken Salad Bowl   \n4621      1834         1                     Chicken Salad Bowl   \n\n                                     choice_description item_price  \n0                                                   NaN     $2.39   \n1                                          [Clementine]     $3.39   \n2                                               [Apple]     $3.39   \n3                                                   NaN     $2.39   \n4     [Tomatillo-Red Chili Salsa (Hot), [Black Beans...    $16.98   \n...                                                 ...        ...  \n4617  [Fresh Tomato Salsa, [Rice, Black Beans, Sour ...    $11.75   \n4618  [Fresh Tomato Salsa, [Rice, Sour Cream, Cheese...    $11.75   \n4619  [Fresh Tomato Salsa, [Fajita Vegetables, Pinto...    $11.25   \n4620  [Fresh Tomato Salsa, [Fajita Vegetables, Lettu...     $8.75   \n4621  [Fresh Tomato Salsa, [Fajita Vegetables, Pinto...     $8.75   \n\n[4622 rows x 5 columns]",
      "text/html": "<div>\n<style scoped>\n    .dataframe tbody tr th:only-of-type {\n        vertical-align: middle;\n    }\n\n    .dataframe tbody tr th {\n        vertical-align: top;\n    }\n\n    .dataframe thead th {\n        text-align: right;\n    }\n</style>\n<table border=\"1\" class=\"dataframe\">\n  <thead>\n    <tr style=\"text-align: right;\">\n      <th></th>\n      <th>order_id</th>\n      <th>quantity</th>\n      <th>item_name</th>\n      <th>choice_description</th>\n      <th>item_price</th>\n    </tr>\n  </thead>\n  <tbody>\n    <tr>\n      <th>0</th>\n      <td>1</td>\n      <td>1</td>\n      <td>Chips and Fresh Tomato Salsa</td>\n      <td>NaN</td>\n      <td>$2.39</td>\n    </tr>\n    <tr>\n      <th>1</th>\n      <td>1</td>\n      <td>1</td>\n      <td>Izze</td>\n      <td>[Clementine]</td>\n      <td>$3.39</td>\n    </tr>\n    <tr>\n      <th>2</th>\n      <td>1</td>\n      <td>1</td>\n      <td>Nantucket Nectar</td>\n      <td>[Apple]</td>\n      <td>$3.39</td>\n    </tr>\n    <tr>\n      <th>3</th>\n      <td>1</td>\n      <td>1</td>\n      <td>Chips and Tomatillo-Green Chili Salsa</td>\n      <td>NaN</td>\n      <td>$2.39</td>\n    </tr>\n    <tr>\n      <th>4</th>\n      <td>2</td>\n      <td>2</td>\n      <td>Chicken Bowl</td>\n      <td>[Tomatillo-Red Chili Salsa (Hot), [Black Beans...</td>\n      <td>$16.98</td>\n    </tr>\n    <tr>\n      <th>...</th>\n      <td>...</td>\n      <td>...</td>\n      <td>...</td>\n      <td>...</td>\n      <td>...</td>\n    </tr>\n    <tr>\n      <th>4617</th>\n      <td>1833</td>\n      <td>1</td>\n      <td>Steak Burrito</td>\n      <td>[Fresh Tomato Salsa, [Rice, Black Beans, Sour ...</td>\n      <td>$11.75</td>\n    </tr>\n    <tr>\n      <th>4618</th>\n      <td>1833</td>\n      <td>1</td>\n      <td>Steak Burrito</td>\n      <td>[Fresh Tomato Salsa, [Rice, Sour Cream, Cheese...</td>\n      <td>$11.75</td>\n    </tr>\n    <tr>\n      <th>4619</th>\n      <td>1834</td>\n      <td>1</td>\n      <td>Chicken Salad Bowl</td>\n      <td>[Fresh Tomato Salsa, [Fajita Vegetables, Pinto...</td>\n      <td>$11.25</td>\n    </tr>\n    <tr>\n      <th>4620</th>\n      <td>1834</td>\n      <td>1</td>\n      <td>Chicken Salad Bowl</td>\n      <td>[Fresh Tomato Salsa, [Fajita Vegetables, Lettu...</td>\n      <td>$8.75</td>\n    </tr>\n    <tr>\n      <th>4621</th>\n      <td>1834</td>\n      <td>1</td>\n      <td>Chicken Salad Bowl</td>\n      <td>[Fresh Tomato Salsa, [Fajita Vegetables, Pinto...</td>\n      <td>$8.75</td>\n    </tr>\n  </tbody>\n</table>\n<p>4622 rows × 5 columns</p>\n</div>"
     },
     "execution_count": 2,
     "metadata": {},
     "output_type": "execute_result"
    }
   ],
   "source": [
    "df_chipotle"
   ],
   "metadata": {
    "collapsed": false,
    "pycharm": {
     "name": "#%%\n"
    }
   }
  },
  {
   "cell_type": "code",
   "execution_count": 3,
   "outputs": [
    {
     "name": "stdout",
     "output_type": "stream",
     "text": [
      "Index(['order_id', 'quantity', 'item_name', 'choice_description',\n",
      "       'item_price'],\n",
      "      dtype='object')\n",
      "==============================================\n",
      "RangeIndex(start=0, stop=4622, step=1)\n"
     ]
    }
   ],
   "source": [
    "print(df_chipotle.columns)\n",
    "print(\"==============================================\")\n",
    "print(df_chipotle.index)"
   ],
   "metadata": {
    "collapsed": false,
    "pycharm": {
     "name": "#%%\n"
    }
   }
  },
  {
   "cell_type": "markdown",
   "source": [
    "이제 데이터 셋의 피처의 의미는 파악 되었다.\n",
    "\n",
    "- order_id : 주문 번호\n",
    "- quantity : 아이템의 주문 수량\n",
    "- item_name : 주문한 아이템의 이름\n",
    "- choice_description : 주문한 아이템의 상세 선택 옵션\n",
    "- item_price : 주문 아이템의 가격 정보\n"
   ],
   "metadata": {
    "collapsed": false
   }
  },
  {
   "cell_type": "markdown",
   "source": [
    "## 피처의 수치적 특징\n",
    "\n",
    "quantity, item_price의 수치적 특징을 살펴보면 키, 몸무게 같은 어떤 구간의 모든 값을 데이터로 가질 수 있는 **연속형 피처**이다.\n",
    "\n",
    "피처 형태의 종류\n",
    "\n",
    "**수치형 피처**\n",
    "\n",
    "명칭|특징|예시\n",
    "-----|----|----|\n",
    "연속형 피처|어떤 구간 안의 모든 값을 데이터로 가질 수 있다.|키 몸무게\n",
    "비연속형 피처|셀 수 있으며, 일정 구간 안에서 정해진 몇 개의 값을 가져야 한다|나이\n",
    "\n",
    "\n",
    "**범주형 피처**\n",
    "\n",
    "명칭|특징|예시\n",
    "-----|----|----|\n",
    "순서가 있는 범주형 피처|순서가 있으나 수치는 아님.|학점(A,B,C,D...)\n",
    "순서가 없는 범주형 피처|데이터가 구분되면서도 순서가 없음|혈액형"
   ],
   "metadata": {
    "collapsed": false
   }
  },
  {
   "cell_type": "markdown",
   "source": [
    "### 기초 통계량 파악\n",
    "\n",
    "```dscribe()```를 통해서 기초 통계량 파악가능 (단, 수치형 피처 And 정수형)"
   ],
   "metadata": {
    "collapsed": false
   }
  },
  {
   "cell_type": "code",
   "execution_count": 4,
   "outputs": [
    {
     "name": "stdout",
     "output_type": "stream",
     "text": [
      "          quantity\n",
      "count  4622.000000\n",
      "mean      1.075725\n",
      "std       0.410186\n",
      "min       1.000000\n",
      "25%       1.000000\n",
      "50%       1.000000\n",
      "75%       1.000000\n",
      "max      15.000000\n"
     ]
    }
   ],
   "source": [
    "df_chipotle['order_id'] = df_chipotle['order_id'].astype(str)\n",
    "print(df_chipotle.describe())"
   ],
   "metadata": {
    "collapsed": false,
    "pycharm": {
     "name": "#%%\n"
    }
   }
  },
  {
   "cell_type": "markdown",
   "source": [
    "위에 통계를 보고 알 수 있는 점은?\n",
    "\n",
    "mean(평균)값이 1.075임 이걸 통해서 알 수 있는건?\n",
    "~~한 사람이 같은 메뉴를 여러개 구매하는 경우는 많지 않다(?)~~"
   ],
   "metadata": {
    "collapsed": false
   }
  },
  {
   "cell_type": "code",
   "execution_count": 5,
   "outputs": [
    {
     "name": "stdout",
     "output_type": "stream",
     "text": [
      "1834\n",
      "50\n"
     ]
    }
   ],
   "source": [
    "print(len(df_chipotle['order_id'].unique())) # order_id의 개수를 출력\n",
    "print(len(df_chipotle['item_name'].unique()))"
   ],
   "metadata": {
    "collapsed": false,
    "pycharm": {
     "name": "#%%\n"
    }
   }
  },
  {
   "cell_type": "markdown",
   "source": [
    "## 탐색과 시각화\n",
    "\n",
    "가장 많이 주문한 메뉴 Top 10을 분석해보자\n",
    "\n",
    "```value_counts()```는 유일한 값별 개수를 반환함 기본 적으로 내림차순으로 반환(오름차순은 ascending=True)\n",
    "\n",
    "```iteritmems()```는 딕셔너리로 부를 수 있는 함수임 키 값과 벨류 값의 리스트를 가져옴\n",
    "\n",
    "```enumerate()```는 인덱스 번호, 값을 쌍으로 출력함"
   ],
   "metadata": {
    "collapsed": false
   }
  },
  {
   "cell_type": "code",
   "execution_count": 6,
   "outputs": [],
   "source": [
    "def value_count(df, colname, stop):\n",
    "    '''\n",
    "    가장 많이 주문한 아이템 TopN 출력하는 메서드\n",
    "    :param df: 데이터 프레임\n",
    "    :param colname: 컬럼명(피처)\n",
    "    :param stop: n 번째\n",
    "    :return: TopN 항목 출력\n",
    "    '''\n",
    "\n",
    "    item_count = df[colname].value_counts()[:stop] # 데이터 프레임의 colname 각 항목 갯수 stop까지 가져옴\n",
    "    for idx, (val, cnt) in enumerate(item_count.iteritems(), 1):\n",
    "        print(f\"Top{idx} : {val} {cnt}\")"
   ],
   "metadata": {
    "collapsed": false,
    "pycharm": {
     "name": "#%%\n"
    }
   }
  },
  {
   "cell_type": "code",
   "execution_count": 7,
   "outputs": [
    {
     "name": "stdout",
     "output_type": "stream",
     "text": [
      "Top1 : Chicken Bowl 726\n",
      "Top2 : Chicken Burrito 553\n",
      "Top3 : Chips and Guacamole 479\n",
      "Top4 : Steak Burrito 368\n",
      "Top5 : Canned Soft Drink 301\n",
      "Top6 : Steak Bowl 211\n",
      "Top7 : Chips 211\n",
      "Top8 : Bottled Water 162\n",
      "Top9 : Chicken Soft Tacos 115\n",
      "Top10 : Chips and Fresh Tomato Salsa 110\n"
     ]
    }
   ],
   "source": [
    "value_count(df_chipotle, 'item_name', 10)"
   ],
   "metadata": {
    "collapsed": false,
    "pycharm": {
     "name": "#%%\n"
    }
   }
  },
  {
   "cell_type": "markdown",
   "source": [
    "## 아이템별 주문 개수와 총량\n",
    "\n",
    "```groupby()```는 데이터 프레임에서 특정 피처를 기준으로 그룹을 생성하며 이를 통해 그룹별 연산을 적용할 수 있음"
   ],
   "metadata": {
    "collapsed": false
   }
  },
  {
   "cell_type": "code",
   "execution_count": 8,
   "outputs": [],
   "source": [
    "def item_group_count(df, groupname, colname, option, stop):\n",
    "    '''\n",
    "    아이템 그룹별 통계 구하기\n",
    "    :param df: 데이터 프레임\n",
    "    :param groupname: 그룹 기준\n",
    "    :param colname: 컬럼명\n",
    "    :param stop: N번째\n",
    "    '''\n",
    "    if option == 'count':\n",
    "        item_group_counts = df.groupby(groupname)[colname].count()\n",
    "        print(item_group_counts[:stop])\n",
    "        return item_group_counts\n",
    "    elif option == \"sum\":\n",
    "        item_group_counts = df.groupby(groupname)[colname].sum()\n",
    "        print(item_group_counts[:stop])\n",
    "        return item_group_counts"
   ],
   "metadata": {
    "collapsed": false,
    "pycharm": {
     "name": "#%%\n"
    }
   }
  },
  {
   "cell_type": "code",
   "execution_count": 9,
   "outputs": [
    {
     "name": "stdout",
     "output_type": "stream",
     "text": [
      "item_name\n",
      "6 Pack Soft Drink         54\n",
      "Barbacoa Bowl             66\n",
      "Barbacoa Burrito          91\n",
      "Barbacoa Crispy Tacos     11\n",
      "Barbacoa Salad Bowl       10\n",
      "Barbacoa Soft Tacos       25\n",
      "Bottled Water            162\n",
      "Bowl                       2\n",
      "Burrito                    6\n",
      "Canned Soda              104\n",
      "Name: order_id, dtype: int64\n"
     ]
    }
   ],
   "source": [
    "order_count = item_group_count(df_chipotle, 'item_name', 'order_id', \"count\", 10)\n",
    "# 각 메뉴 기준으로 주문 개수"
   ],
   "metadata": {
    "collapsed": false,
    "pycharm": {
     "name": "#%%\n"
    }
   }
  },
  {
   "cell_type": "code",
   "execution_count": 10,
   "outputs": [
    {
     "name": "stdout",
     "output_type": "stream",
     "text": [
      "item_name\n",
      "6 Pack Soft Drink         55\n",
      "Barbacoa Bowl             66\n",
      "Barbacoa Burrito          91\n",
      "Barbacoa Crispy Tacos     12\n",
      "Barbacoa Salad Bowl       10\n",
      "Barbacoa Soft Tacos       25\n",
      "Bottled Water            211\n",
      "Bowl                       4\n",
      "Burrito                    6\n",
      "Canned Soda              126\n",
      "Name: quantity, dtype: int64\n"
     ]
    }
   ],
   "source": [
    "item_quantity = item_group_count(df_chipotle, 'item_name', 'quantity', \"sum\", 10)\n",
    "# 각 메뉴 기준으로 주문 총 량"
   ],
   "metadata": {
    "collapsed": false,
    "pycharm": {
     "name": "#%%\n"
    }
   }
  },
  {
   "cell_type": "markdown",
   "source": [
    "## 데이터 시각화 작업\n",
    "대표적으로 시각화를 사용하는 라이브러리는 2가지 있음\n",
    "\n",
    "2가지의 차이를 간단히 말하자면 seaborn은 matplotlib의 상위호환?? 그런 느낌으로 보면 됨"
   ],
   "metadata": {
    "collapsed": false
   }
  },
  {
   "cell_type": "code",
   "execution_count": 11,
   "outputs": [],
   "source": [
    "%matplotlib inline\n",
    "import numpy as np\n",
    "import matplotlib.pyplot as plt"
   ],
   "metadata": {
    "collapsed": false,
    "pycharm": {
     "name": "#%%\n"
    }
   }
  },
  {
   "cell_type": "code",
   "execution_count": 12,
   "outputs": [],
   "source": [
    "def show_ordered_item():\n",
    "    item_name_list = item_quantity.index.tolist()\n",
    "    # tolist()는 시리얼 데이터프레임 -> 리스트로 변환? 하는 메서드(없어도 무방)\n",
    "    x_pos = np.arange(len(item_name_list))\n",
    "    # 0~50까지 숫자 생성\n",
    "    order_cnt = item_quantity.values.tolist()\n",
    "\n",
    "    plt.bar(x_pos, order_cnt, align='center')\n",
    "    # x축(0~50 정수) y축 주문 총량\n",
    "    plt.ylabel(\"ordered_item_count\")\n",
    "    plt.title(\"Distribution of all ordered item\")\n",
    "    plt.show()"
   ],
   "metadata": {
    "collapsed": false,
    "pycharm": {
     "name": "#%%\n"
    }
   }
  },
  {
   "cell_type": "code",
   "execution_count": 13,
   "outputs": [
    {
     "data": {
      "text/plain": "<Figure size 432x288 with 1 Axes>",
      "image/png": "[encoded data removed]"
     },
     "metadata": {
      "needs_background": "light"
     },
     "output_type": "display_data"
    }
   ],
   "source": [
    "show_ordered_item()"
   ],
   "metadata": {
    "collapsed": false,
    "pycharm": {
     "name": "#%%\n"
    }
   }
  },
  {
   "cell_type": "markdown",
   "source": [
    "# 데이터 전처리\n",
    "\n",
    "item_price 같이 수치적 특징을 탐색하는 과정에서 $문자 때문에 통계를 구할 수 없었다.\n",
    "따라서 이를 문자열이 아닌 숫자 타입으로 변환 해야하는데 이러한 과정을 전처리라 한다."
   ],
   "metadata": {
    "collapsed": false
   }
  },
  {
   "cell_type": "code",
   "execution_count": 14,
   "outputs": [
    {
     "name": "stdout",
     "output_type": "stream",
     "text": [
      "0     $2.39 \n",
      "1     $3.39 \n",
      "2     $3.39 \n",
      "3     $2.39 \n",
      "4    $16.98 \n",
      "Name: item_price, dtype: object\n"
     ]
    }
   ],
   "source": [
    "print(df_chipotle['item_price'].head())\n",
    "# $표시 때문에 object 표현됨"
   ],
   "metadata": {
    "collapsed": false,
    "pycharm": {
     "name": "#%%\n"
    }
   }
  },
  {
   "cell_type": "markdown",
   "source": [
    "## apply()와 lambda사용하기\n",
    "\n",
    "$ 기호를 처리하는 방법은 여러가지 있겠지만 간편하게 하는 방법을 소개한다.\n",
    "\n",
    "```apply()```는 각 행마다 연산을 적용시킴 (시리즈 단위 연산)"
   ],
   "metadata": {
    "collapsed": false
   }
  },
  {
   "cell_type": "code",
   "execution_count": 15,
   "outputs": [
    {
     "data": {
      "text/plain": "          quantity   item_price\ncount  4622.000000  4622.000000\nmean      1.075725     7.464336\nstd       0.410186     4.245557\nmin       1.000000     1.090000\n25%       1.000000     3.390000\n50%       1.000000     8.750000\n75%       1.000000     9.250000\nmax      15.000000    44.250000",
      "text/html": "<div>\n<style scoped>\n    .dataframe tbody tr th:only-of-type {\n        vertical-align: middle;\n    }\n\n    .dataframe tbody tr th {\n        vertical-align: top;\n    }\n\n    .dataframe thead th {\n        text-align: right;\n    }\n</style>\n<table border=\"1\" class=\"dataframe\">\n  <thead>\n    <tr style=\"text-align: right;\">\n      <th></th>\n      <th>quantity</th>\n      <th>item_price</th>\n    </tr>\n  </thead>\n  <tbody>\n    <tr>\n      <th>count</th>\n      <td>4622.000000</td>\n      <td>4622.000000</td>\n    </tr>\n    <tr>\n      <th>mean</th>\n      <td>1.075725</td>\n      <td>7.464336</td>\n    </tr>\n    <tr>\n      <th>std</th>\n      <td>0.410186</td>\n      <td>4.245557</td>\n    </tr>\n    <tr>\n      <th>min</th>\n      <td>1.000000</td>\n      <td>1.090000</td>\n    </tr>\n    <tr>\n      <th>25%</th>\n      <td>1.000000</td>\n      <td>3.390000</td>\n    </tr>\n    <tr>\n      <th>50%</th>\n      <td>1.000000</td>\n      <td>8.750000</td>\n    </tr>\n    <tr>\n      <th>75%</th>\n      <td>1.000000</td>\n      <td>9.250000</td>\n    </tr>\n    <tr>\n      <th>max</th>\n      <td>15.000000</td>\n      <td>44.250000</td>\n    </tr>\n  </tbody>\n</table>\n</div>"
     },
     "execution_count": 15,
     "metadata": {},
     "output_type": "execute_result"
    }
   ],
   "source": [
    "df_chipotle['item_price'] = df_chipotle['item_price'].apply(lambda x: float(x[1:]))\n",
    "#float(x[1:])의 의미 문자열을 인덱스로 쪼개면 0번 인덱스는 $를 의미 따라서 1번 인덱스(즉, $ 바로 뒤 숫자)부터 실수로 변경하\n",
    "df_chipotle.describe()\n",
    "# 이전엔 quantity만 출력되었지만 이젠 item_price까지 출력됨을 볼 수 있음"
   ],
   "metadata": {
    "collapsed": false,
    "pycharm": {
     "name": "#%%\n"
    }
   }
  },
  {
   "cell_type": "markdown",
   "source": [
    "# 탐색적 분석 (개념적 탐색)"
   ],
   "metadata": {
    "collapsed": false
   }
  },
  {
   "cell_type": "code",
   "execution_count": 16,
   "outputs": [
    {
     "data": {
      "text/plain": "18.811428571428717"
     },
     "execution_count": 16,
     "metadata": {},
     "output_type": "execute_result"
    }
   ],
   "source": [
    "df_chipotle.groupby('order_id')['item_price'].sum().mean()\n",
    "# 1인당 얼마 만큼의 주문을 할까?"
   ],
   "metadata": {
    "collapsed": false,
    "pycharm": {
     "name": "#%%\n"
    }
   }
  },
  {
   "cell_type": "code",
   "execution_count": 17,
   "outputs": [],
   "source": [
    "# 1 주문에 10달러 이상 지불한 주문 번호 출력\n",
    "df_chipotle_group = df_chipotle.groupby('order_id').sum()\n",
    "# order_id를 기준으로 그룹을 만들어서 합산결과를 출력한다.\n",
    "# 이때 왜 quantity, item_price만 출력되냐면\n",
    "# 앞에서 수치형 피처에 대해서 알아봤고 비수치형 피처는 합산 자체가 불가능하기 때문에 알아서 수치형 피처에 대해서만 출력한 것으로 판단됨"
   ],
   "metadata": {
    "collapsed": false,
    "pycharm": {
     "name": "#%%\n"
    }
   }
  },
  {
   "cell_type": "code",
   "execution_count": 18,
   "outputs": [],
   "source": [
    "def id_output_ordered(money, df):\n",
    "    '''\n",
    "    특정 가격 이상 지불한 주문 번호 출력\n",
    "    :param money: 기준 가격\n",
    "    :param df: 데이터 프레임\n",
    "    :return : 주문 번호\n",
    "    '''\n",
    "    result = df[df.item_price >= 10]\n",
    "    return result"
   ],
   "metadata": {
    "collapsed": false,
    "pycharm": {
     "name": "#%%\n"
    }
   }
  },
  {
   "cell_type": "code",
   "execution_count": 19,
   "outputs": [
    {
     "data": {
      "text/plain": "          quantity  item_price\norder_id                      \n1                4       11.56\n10               2       13.20\n100              2       10.08\n1000             2       20.50\n1001             2       10.08\n...            ...         ...\n995              3       24.95\n996              4       43.00\n997              2       22.50\n998              2       10.88\n999              5       29.25\n\n[1834 rows x 2 columns]",
      "text/html": "<div>\n<style scoped>\n    .dataframe tbody tr th:only-of-type {\n        vertical-align: middle;\n    }\n\n    .dataframe tbody tr th {\n        vertical-align: top;\n    }\n\n    .dataframe thead th {\n        text-align: right;\n    }\n</style>\n<table border=\"1\" class=\"dataframe\">\n  <thead>\n    <tr style=\"text-align: right;\">\n      <th></th>\n      <th>quantity</th>\n      <th>item_price</th>\n    </tr>\n    <tr>\n      <th>order_id</th>\n      <th></th>\n      <th></th>\n    </tr>\n  </thead>\n  <tbody>\n    <tr>\n      <th>1</th>\n      <td>4</td>\n      <td>11.56</td>\n    </tr>\n    <tr>\n      <th>10</th>\n      <td>2</td>\n      <td>13.20</td>\n    </tr>\n    <tr>\n      <th>100</th>\n      <td>2</td>\n      <td>10.08</td>\n    </tr>\n    <tr>\n      <th>1000</th>\n      <td>2</td>\n      <td>20.50</td>\n    </tr>\n    <tr>\n      <th>1001</th>\n      <td>2</td>\n      <td>10.08</td>\n    </tr>\n    <tr>\n      <th>...</th>\n      <td>...</td>\n      <td>...</td>\n    </tr>\n    <tr>\n      <th>995</th>\n      <td>3</td>\n      <td>24.95</td>\n    </tr>\n    <tr>\n      <th>996</th>\n      <td>4</td>\n      <td>43.00</td>\n    </tr>\n    <tr>\n      <th>997</th>\n      <td>2</td>\n      <td>22.50</td>\n    </tr>\n    <tr>\n      <th>998</th>\n      <td>2</td>\n      <td>10.88</td>\n    </tr>\n    <tr>\n      <th>999</th>\n      <td>5</td>\n      <td>29.25</td>\n    </tr>\n  </tbody>\n</table>\n<p>1834 rows × 2 columns</p>\n</div>"
     },
     "execution_count": 19,
     "metadata": {},
     "output_type": "execute_result"
    }
   ],
   "source": [
    "result = id_output_ordered(10, df_chipotle_group)\n",
    "result"
   ],
   "metadata": {
    "collapsed": false,
    "pycharm": {
     "name": "#%%\n"
    }
   }
  },
  {
   "cell_type": "code",
   "execution_count": 20,
   "outputs": [
    {
     "data": {
      "text/plain": "                                      order_id  quantity  \\\nitem_name                                                  \nSteak Salad Bowl                          1032         1   \nBarbacoa Salad Bowl                       1283         1   \nCarnitas Salad Bowl                       1035         1   \nCarnitas Soft Tacos                       1011         1   \nCarnitas Crispy Tacos                     1774         1   \nSteak Soft Tacos                          1054         1   \nCarnitas Salad                            1500         1   \nCarnitas Bowl                             1007         1   \nBarbacoa Soft Tacos                       1103         1   \nBarbacoa Crispy Tacos                      110         1   \nVeggie Salad Bowl                         1066         1   \nChicken Salad Bowl                        1015         1   \nSteak Burrito                              100         1   \nSteak Crispy Tacos                        1044         1   \nSteak Salad                               1406         1   \nCarnitas Burrito                          1003         1   \nSteak Bowl                                1006         1   \nBarbacoa Burrito                          1002         1   \nBarbacoa Bowl                             1000         1   \nChicken Soft Tacos                        1006         1   \nVeggie Bowl                               1006         1   \nVeggie Burrito                            1033         1   \nVeggie Soft Tacos                         1132         1   \nChicken Crispy Tacos                      1010         1   \nVeggie Crispy Tacos                        668         1   \nVeggie Salad                              1094         1   \nChicken Salad                              109         1   \nChicken Burrito                           1005         1   \nChicken Bowl                                10         1   \nCrispy Tacos                               217         1   \nBurrito                                    214         1   \nBowl                                       279         1   \nSalad                                      575         1   \n6 Pack Soft Drink                         1076         1   \nChips and Guacamole                         10         1   \nIzze                                         1         1   \nNantucket Nectar                             1         1   \nChips and Mild Fresh Tomato Salsa          279         1   \nChips and Tomatillo Red Chili Salsa       1020         1   \nChips and Tomatillo Green Chili Salsa      102         1   \nChips and Roasted Chili Corn Salsa         102         1   \nChips and Tomatillo-Red Chili Salsa       1215         1   \nChips and Tomatillo-Green Chili Salsa        1         1   \nChips and Roasted Chili-Corn Salsa        1156         1   \nChips and Fresh Tomato Salsa                 1         1   \nChips                                     1005         1   \nSide of Chips                             1002         1   \nCanned Soft Drink                         1003         1   \nCanned Soda                                100         1   \nBottled Water                             1009         1   \n\n                                                                      choice_description  \\\nitem_name                                                                                  \nSteak Salad Bowl                                           [Fresh Tomato Salsa, Lettuce]   \nBarbacoa Salad Bowl                                      [Fresh Tomato Salsa, Guacamole]   \nCarnitas Salad Bowl                    [Fresh Tomato Salsa, [Rice, Black Beans, Chees...   \nCarnitas Soft Tacos                    [Fresh Tomato Salsa (Mild), [Black Beans, Rice...   \nCarnitas Crispy Tacos                  [Fresh Tomato Salsa, [Fajita Vegetables, Rice,...   \nSteak Soft Tacos                       [Fresh Tomato Salsa (Mild), [Cheese, Sour Cream]]   \nCarnitas Salad                         [[Fresh Tomato Salsa (Mild), Roasted Chili Cor...   \nCarnitas Bowl                          [Fresh Tomato (Mild), [Guacamole, Lettuce, Ric...   \nBarbacoa Soft Tacos                    [Fresh Tomato Salsa, [Black Beans, Cheese, Let...   \nBarbacoa Crispy Tacos                                    [Fresh Tomato Salsa, Guacamole]   \nVeggie Salad Bowl                      [Fresh Tomato Salsa, [Fajita Vegetables, Black...   \nChicken Salad Bowl                               [Fresh Tomato Salsa, Fajita Vegetables]   \nSteak Burrito                                                               [Brown Rice]   \nSteak Crispy Tacos                              [Fresh Tomato (Mild), [Lettuce, Cheese]]   \nSteak Salad                            [Fresh Tomato Salsa (Mild), [Rice, Cheese, Sou...   \nCarnitas Burrito                       [Fresh Tomato (Mild), [Lettuce, Black Beans, G...   \nSteak Bowl                             [Fresh Tomato (Mild), [Guacamole, Lettuce, Pin...   \nBarbacoa Burrito                       [Fresh Tomato (Mild), [Black Beans, Rice, Sour...   \nBarbacoa Bowl                          [Fresh Tomato (Mild), [Lettuce, Black Beans, R...   \nChicken Soft Tacos                     [Fresh Tomato Salsa (Mild), [Black Beans, Rice...   \nVeggie Bowl                            [Fresh Tomato Salsa (Mild), [Pinto Beans, Blac...   \nVeggie Burrito                         [Fresh Tomato Salsa (Mild), [Black Beans, Faji...   \nVeggie Soft Tacos                      [Fresh Tomato Salsa (Mild), [Pinto Beans, Rice...   \nChicken Crispy Tacos                         [Fresh Tomato Salsa (Mild), Fajita Veggies]   \nVeggie Crispy Tacos                    [Fresh Tomato Salsa (Mild), [Pinto Beans, Rice...   \nVeggie Salad                           [Roasted Chili Corn Salsa (Medium), [Black Bea...   \nChicken Salad                                   [Fresh Tomato Salsa (Mild), Black Beans]   \nChicken Burrito                        [Fresh Tomato (Mild), [Black Beans, Rice, Sour...   \nChicken Bowl                                    [Fresh Tomato (Mild), [Guacamole, Rice]]   \nCrispy Tacos                                       [Adobo-Marinated and Grilled Chicken]   \nBurrito                                [Adobo-Marinated and Grilled Chicken, Pinto Be...   \nBowl                                   [Adobo-Marinated and Grilled Steak, [Sour Crea...   \nSalad                                  [Brown Rice, Adobo-Marinated and Grilled Chick...   \n6 Pack Soft Drink                                                                 [Coke]   \nChips and Guacamole                                                                  NaN   \nIzze                                                                        [Blackberry]   \nNantucket Nectar                                                                 [Apple]   \nChips and Mild Fresh Tomato Salsa                                                    NaN   \nChips and Tomatillo Red Chili Salsa                                                  NaN   \nChips and Tomatillo Green Chili Salsa                                                NaN   \nChips and Roasted Chili Corn Salsa                                                   NaN   \nChips and Tomatillo-Red Chili Salsa                                                  NaN   \nChips and Tomatillo-Green Chili Salsa                                                NaN   \nChips and Roasted Chili-Corn Salsa                                                   NaN   \nChips and Fresh Tomato Salsa                                                         NaN   \nChips                                                                                NaN   \nSide of Chips                                                                        NaN   \nCanned Soft Drink                                                                 [Coke]   \nCanned Soda                                                                  [Coca Cola]   \nBottled Water                                                                        NaN   \n\n                                       item_price  \nitem_name                                          \nSteak Salad Bowl                             9.39  \nBarbacoa Salad Bowl                          9.39  \nCarnitas Salad Bowl                          9.39  \nCarnitas Soft Tacos                          8.99  \nCarnitas Crispy Tacos                        8.99  \nSteak Soft Tacos                             8.99  \nCarnitas Salad                               8.99  \nCarnitas Bowl                                8.99  \nBarbacoa Soft Tacos                          8.99  \nBarbacoa Crispy Tacos                        8.99  \nVeggie Salad Bowl                            8.75  \nChicken Salad Bowl                           8.75  \nSteak Burrito                                8.69  \nSteak Crispy Tacos                           8.69  \nSteak Salad                                  8.69  \nCarnitas Burrito                             8.69  \nSteak Bowl                                   8.69  \nBarbacoa Burrito                             8.69  \nBarbacoa Bowl                                8.69  \nChicken Soft Tacos                           8.49  \nVeggie Bowl                                  8.49  \nVeggie Burrito                               8.49  \nVeggie Soft Tacos                            8.49  \nChicken Crispy Tacos                         8.49  \nVeggie Crispy Tacos                          8.49  \nVeggie Salad                                 8.49  \nChicken Salad                                8.19  \nChicken Burrito                              8.19  \nChicken Bowl                                 8.19  \nCrispy Tacos                                 7.40  \nBurrito                                      7.40  \nBowl                                         7.40  \nSalad                                        7.40  \n6 Pack Soft Drink                            6.49  \nChips and Guacamole                          3.89  \nIzze                                         3.39  \nNantucket Nectar                             3.39  \nChips and Mild Fresh Tomato Salsa            3.00  \nChips and Tomatillo Red Chili Salsa          2.95  \nChips and Tomatillo Green Chili Salsa        2.95  \nChips and Roasted Chili Corn Salsa           2.95  \nChips and Tomatillo-Red Chili Salsa          2.39  \nChips and Tomatillo-Green Chili Salsa        2.39  \nChips and Roasted Chili-Corn Salsa           2.39  \nChips and Fresh Tomato Salsa                 2.29  \nChips                                        1.99  \nSide of Chips                                1.69  \nCanned Soft Drink                            1.25  \nCanned Soda                                  1.09  \nBottled Water                                1.09  ",
      "text/html": "<div>\n<style scoped>\n    .dataframe tbody tr th:only-of-type {\n        vertical-align: middle;\n    }\n\n    .dataframe tbody tr th {\n        vertical-align: top;\n    }\n\n    .dataframe thead th {\n        text-align: right;\n    }\n</style>\n<table border=\"1\" class=\"dataframe\">\n  <thead>\n    <tr style=\"text-align: right;\">\n      <th></th>\n      <th>order_id</th>\n      <th>quantity</th>\n      <th>choice_description</th>\n      <th>item_price</th>\n    </tr>\n    <tr>\n      <th>item_name</th>\n      <th></th>\n      <th></th>\n      <th></th>\n      <th></th>\n    </tr>\n  </thead>\n  <tbody>\n    <tr>\n      <th>Steak Salad Bowl</th>\n      <td>1032</td>\n      <td>1</td>\n      <td>[Fresh Tomato Salsa, Lettuce]</td>\n      <td>9.39</td>\n    </tr>\n    <tr>\n      <th>Barbacoa Salad Bowl</th>\n      <td>1283</td>\n      <td>1</td>\n      <td>[Fresh Tomato Salsa, Guacamole]</td>\n      <td>9.39</td>\n    </tr>\n    <tr>\n      <th>Carnitas Salad Bowl</th>\n      <td>1035</td>\n      <td>1</td>\n      <td>[Fresh Tomato Salsa, [Rice, Black Beans, Chees...</td>\n      <td>9.39</td>\n    </tr>\n    <tr>\n      <th>Carnitas Soft Tacos</th>\n      <td>1011</td>\n      <td>1</td>\n      <td>[Fresh Tomato Salsa (Mild), [Black Beans, Rice...</td>\n      <td>8.99</td>\n    </tr>\n    <tr>\n      <th>Carnitas Crispy Tacos</th>\n      <td>1774</td>\n      <td>1</td>\n      <td>[Fresh Tomato Salsa, [Fajita Vegetables, Rice,...</td>\n      <td>8.99</td>\n    </tr>\n    <tr>\n      <th>Steak Soft Tacos</th>\n      <td>1054</td>\n      <td>1</td>\n      <td>[Fresh Tomato Salsa (Mild), [Cheese, Sour Cream]]</td>\n      <td>8.99</td>\n    </tr>\n    <tr>\n      <th>Carnitas Salad</th>\n      <td>1500</td>\n      <td>1</td>\n      <td>[[Fresh Tomato Salsa (Mild), Roasted Chili Cor...</td>\n      <td>8.99</td>\n    </tr>\n    <tr>\n      <th>Carnitas Bowl</th>\n      <td>1007</td>\n      <td>1</td>\n      <td>[Fresh Tomato (Mild), [Guacamole, Lettuce, Ric...</td>\n      <td>8.99</td>\n    </tr>\n    <tr>\n      <th>Barbacoa Soft Tacos</th>\n      <td>1103</td>\n      <td>1</td>\n      <td>[Fresh Tomato Salsa, [Black Beans, Cheese, Let...</td>\n      <td>8.99</td>\n    </tr>\n    <tr>\n      <th>Barbacoa Crispy Tacos</th>\n      <td>110</td>\n      <td>1</td>\n      <td>[Fresh Tomato Salsa, Guacamole]</td>\n      <td>8.99</td>\n    </tr>\n    <tr>\n      <th>Veggie Salad Bowl</th>\n      <td>1066</td>\n      <td>1</td>\n      <td>[Fresh Tomato Salsa, [Fajita Vegetables, Black...</td>\n      <td>8.75</td>\n    </tr>\n    <tr>\n      <th>Chicken Salad Bowl</th>\n      <td>1015</td>\n      <td>1</td>\n      <td>[Fresh Tomato Salsa, Fajita Vegetables]</td>\n      <td>8.75</td>\n    </tr>\n    <tr>\n      <th>Steak Burrito</th>\n      <td>100</td>\n      <td>1</td>\n      <td>[Brown Rice]</td>\n      <td>8.69</td>\n    </tr>\n    <tr>\n      <th>Steak Crispy Tacos</th>\n      <td>1044</td>\n      <td>1</td>\n      <td>[Fresh Tomato (Mild), [Lettuce, Cheese]]</td>\n      <td>8.69</td>\n    </tr>\n    <tr>\n      <th>Steak Salad</th>\n      <td>1406</td>\n      <td>1</td>\n      <td>[Fresh Tomato Salsa (Mild), [Rice, Cheese, Sou...</td>\n      <td>8.69</td>\n    </tr>\n    <tr>\n      <th>Carnitas Burrito</th>\n      <td>1003</td>\n      <td>1</td>\n      <td>[Fresh Tomato (Mild), [Lettuce, Black Beans, G...</td>\n      <td>8.69</td>\n    </tr>\n    <tr>\n      <th>Steak Bowl</th>\n      <td>1006</td>\n      <td>1</td>\n      <td>[Fresh Tomato (Mild), [Guacamole, Lettuce, Pin...</td>\n      <td>8.69</td>\n    </tr>\n    <tr>\n      <th>Barbacoa Burrito</th>\n      <td>1002</td>\n      <td>1</td>\n      <td>[Fresh Tomato (Mild), [Black Beans, Rice, Sour...</td>\n      <td>8.69</td>\n    </tr>\n    <tr>\n      <th>Barbacoa Bowl</th>\n      <td>1000</td>\n      <td>1</td>\n      <td>[Fresh Tomato (Mild), [Lettuce, Black Beans, R...</td>\n      <td>8.69</td>\n    </tr>\n    <tr>\n      <th>Chicken Soft Tacos</th>\n      <td>1006</td>\n      <td>1</td>\n      <td>[Fresh Tomato Salsa (Mild), [Black Beans, Rice...</td>\n      <td>8.49</td>\n    </tr>\n    <tr>\n      <th>Veggie Bowl</th>\n      <td>1006</td>\n      <td>1</td>\n      <td>[Fresh Tomato Salsa (Mild), [Pinto Beans, Blac...</td>\n      <td>8.49</td>\n    </tr>\n    <tr>\n      <th>Veggie Burrito</th>\n      <td>1033</td>\n      <td>1</td>\n      <td>[Fresh Tomato Salsa (Mild), [Black Beans, Faji...</td>\n      <td>8.49</td>\n    </tr>\n    <tr>\n      <th>Veggie Soft Tacos</th>\n      <td>1132</td>\n      <td>1</td>\n      <td>[Fresh Tomato Salsa (Mild), [Pinto Beans, Rice...</td>\n      <td>8.49</td>\n    </tr>\n    <tr>\n      <th>Chicken Crispy Tacos</th>\n      <td>1010</td>\n      <td>1</td>\n      <td>[Fresh Tomato Salsa (Mild), Fajita Veggies]</td>\n      <td>8.49</td>\n    </tr>\n    <tr>\n      <th>Veggie Crispy Tacos</th>\n      <td>668</td>\n      <td>1</td>\n      <td>[Fresh Tomato Salsa (Mild), [Pinto Beans, Rice...</td>\n      <td>8.49</td>\n    </tr>\n    <tr>\n      <th>Veggie Salad</th>\n      <td>1094</td>\n      <td>1</td>\n      <td>[Roasted Chili Corn Salsa (Medium), [Black Bea...</td>\n      <td>8.49</td>\n    </tr>\n    <tr>\n      <th>Chicken Salad</th>\n      <td>109</td>\n      <td>1</td>\n      <td>[Fresh Tomato Salsa (Mild), Black Beans]</td>\n      <td>8.19</td>\n    </tr>\n    <tr>\n      <th>Chicken Burrito</th>\n      <td>1005</td>\n      <td>1</td>\n      <td>[Fresh Tomato (Mild), [Black Beans, Rice, Sour...</td>\n      <td>8.19</td>\n    </tr>\n    <tr>\n      <th>Chicken Bowl</th>\n      <td>10</td>\n      <td>1</td>\n      <td>[Fresh Tomato (Mild), [Guacamole, Rice]]</td>\n      <td>8.19</td>\n    </tr>\n    <tr>\n      <th>Crispy Tacos</th>\n      <td>217</td>\n      <td>1</td>\n      <td>[Adobo-Marinated and Grilled Chicken]</td>\n      <td>7.40</td>\n    </tr>\n    <tr>\n      <th>Burrito</th>\n      <td>214</td>\n      <td>1</td>\n      <td>[Adobo-Marinated and Grilled Chicken, Pinto Be...</td>\n      <td>7.40</td>\n    </tr>\n    <tr>\n      <th>Bowl</th>\n      <td>279</td>\n      <td>1</td>\n      <td>[Adobo-Marinated and Grilled Steak, [Sour Crea...</td>\n      <td>7.40</td>\n    </tr>\n    <tr>\n      <th>Salad</th>\n      <td>575</td>\n      <td>1</td>\n      <td>[Brown Rice, Adobo-Marinated and Grilled Chick...</td>\n      <td>7.40</td>\n    </tr>\n    <tr>\n      <th>6 Pack Soft Drink</th>\n      <td>1076</td>\n      <td>1</td>\n      <td>[Coke]</td>\n      <td>6.49</td>\n    </tr>\n    <tr>\n      <th>Chips and Guacamole</th>\n      <td>10</td>\n      <td>1</td>\n      <td>NaN</td>\n      <td>3.89</td>\n    </tr>\n    <tr>\n      <th>Izze</th>\n      <td>1</td>\n      <td>1</td>\n      <td>[Blackberry]</td>\n      <td>3.39</td>\n    </tr>\n    <tr>\n      <th>Nantucket Nectar</th>\n      <td>1</td>\n      <td>1</td>\n      <td>[Apple]</td>\n      <td>3.39</td>\n    </tr>\n    <tr>\n      <th>Chips and Mild Fresh Tomato Salsa</th>\n      <td>279</td>\n      <td>1</td>\n      <td>NaN</td>\n      <td>3.00</td>\n    </tr>\n    <tr>\n      <th>Chips and Tomatillo Red Chili Salsa</th>\n      <td>1020</td>\n      <td>1</td>\n      <td>NaN</td>\n      <td>2.95</td>\n    </tr>\n    <tr>\n      <th>Chips and Tomatillo Green Chili Salsa</th>\n      <td>102</td>\n      <td>1</td>\n      <td>NaN</td>\n      <td>2.95</td>\n    </tr>\n    <tr>\n      <th>Chips and Roasted Chili Corn Salsa</th>\n      <td>102</td>\n      <td>1</td>\n      <td>NaN</td>\n      <td>2.95</td>\n    </tr>\n    <tr>\n      <th>Chips and Tomatillo-Red Chili Salsa</th>\n      <td>1215</td>\n      <td>1</td>\n      <td>NaN</td>\n      <td>2.39</td>\n    </tr>\n    <tr>\n      <th>Chips and Tomatillo-Green Chili Salsa</th>\n      <td>1</td>\n      <td>1</td>\n      <td>NaN</td>\n      <td>2.39</td>\n    </tr>\n    <tr>\n      <th>Chips and Roasted Chili-Corn Salsa</th>\n      <td>1156</td>\n      <td>1</td>\n      <td>NaN</td>\n      <td>2.39</td>\n    </tr>\n    <tr>\n      <th>Chips and Fresh Tomato Salsa</th>\n      <td>1</td>\n      <td>1</td>\n      <td>NaN</td>\n      <td>2.29</td>\n    </tr>\n    <tr>\n      <th>Chips</th>\n      <td>1005</td>\n      <td>1</td>\n      <td>NaN</td>\n      <td>1.99</td>\n    </tr>\n    <tr>\n      <th>Side of Chips</th>\n      <td>1002</td>\n      <td>1</td>\n      <td>NaN</td>\n      <td>1.69</td>\n    </tr>\n    <tr>\n      <th>Canned Soft Drink</th>\n      <td>1003</td>\n      <td>1</td>\n      <td>[Coke]</td>\n      <td>1.25</td>\n    </tr>\n    <tr>\n      <th>Canned Soda</th>\n      <td>100</td>\n      <td>1</td>\n      <td>[Coca Cola]</td>\n      <td>1.09</td>\n    </tr>\n    <tr>\n      <th>Bottled Water</th>\n      <td>1009</td>\n      <td>1</td>\n      <td>NaN</td>\n      <td>1.09</td>\n    </tr>\n  </tbody>\n</table>\n</div>"
     },
     "execution_count": 20,
     "metadata": {},
     "output_type": "execute_result"
    }
   ],
   "source": [
    "df_chipotle_one_item = df_chipotle[df_chipotle.quantity == 1]\n",
    "price_per_item = df_chipotle_one_item.groupby('item_name').min()\n",
    "price_per_item.sort_values(by = 'item_price', ascending = False)\n",
    "# 우선 주문 건수가 1인 것을 추출함 (1번 라인)\n",
    "# 아이템 이름을 기준으로 최소값을 뽑는다\n",
    "# sort_values로 정렬\n",
    "# sort_values(by = 기준, ascending = 이건 오름차순 내림차순 설정 False가 내림)"
   ],
   "metadata": {
    "collapsed": false,
    "pycharm": {
     "name": "#%%\n"
    }
   }
  },
  {
   "cell_type": "code",
   "execution_count": 21,
   "outputs": [],
   "source": [
    "def show_item_list(df):\n",
    "    '''\n",
    "    아이템 가격 분포 그래프 생성\n",
    "    :param df: 데이터 프레임\n",
    "    :return:\n",
    "    '''\n",
    "    item_list = df.index.tolist()\n",
    "    x_pos = np.arange(len(item_list))\n",
    "    item_price = df['item_price'].tolist()\n",
    "\n",
    "    plt.bar(x_pos, item_price, align='center')\n",
    "    plt.ylabel('item_price')\n",
    "    plt.show()\n",
    "\n",
    "    plt.hist(item_price)\n",
    "    plt.ylabel('counts')\n",
    "    plt.show()"
   ],
   "metadata": {
    "collapsed": false,
    "pycharm": {
     "name": "#%%\n"
    }
   }
  },
  {
   "cell_type": "code",
   "execution_count": 22,
   "outputs": [
    {
     "data": {
      "text/plain": "<Figure size 432x288 with 1 Axes>",
      "image/png": "[encoded data removed]"
     },
     "metadata": {
      "needs_background": "light"
     },
     "output_type": "display_data"
    },
    {
     "data": {
      "text/plain": "<Figure size 432x288 with 1 Axes>",
      "image/png": "[encoded data removed]"
     },
     "metadata": {
      "needs_background": "light"
     },
     "output_type": "display_data"
    }
   ],
   "source": [
    "show_item_list(price_per_item)"
   ],
   "metadata": {
    "collapsed": false,
    "pycharm": {
     "name": "#%%\n"
    }
   }
  },
  {
   "cell_type": "code",
   "execution_count": 23,
   "outputs": [
    {
     "data": {
      "text/plain": "          quantity  item_price\norder_id                      \n926             23      205.25\n1443            35      160.74\n1483            14      139.00\n691             11      118.25\n1786            20      114.30\n...            ...         ...\n1014             2       10.08\n730              2       10.08\n14               2       10.08\n332              2       10.08\n393              2       10.08\n\n[1834 rows x 2 columns]",
      "text/html": "<div>\n<style scoped>\n    .dataframe tbody tr th:only-of-type {\n        vertical-align: middle;\n    }\n\n    .dataframe tbody tr th {\n        vertical-align: top;\n    }\n\n    .dataframe thead th {\n        text-align: right;\n    }\n</style>\n<table border=\"1\" class=\"dataframe\">\n  <thead>\n    <tr style=\"text-align: right;\">\n      <th></th>\n      <th>quantity</th>\n      <th>item_price</th>\n    </tr>\n    <tr>\n      <th>order_id</th>\n      <th></th>\n      <th></th>\n    </tr>\n  </thead>\n  <tbody>\n    <tr>\n      <th>926</th>\n      <td>23</td>\n      <td>205.25</td>\n    </tr>\n    <tr>\n      <th>1443</th>\n      <td>35</td>\n      <td>160.74</td>\n    </tr>\n    <tr>\n      <th>1483</th>\n      <td>14</td>\n      <td>139.00</td>\n    </tr>\n    <tr>\n      <th>691</th>\n      <td>11</td>\n      <td>118.25</td>\n    </tr>\n    <tr>\n      <th>1786</th>\n      <td>20</td>\n      <td>114.30</td>\n    </tr>\n    <tr>\n      <th>...</th>\n      <td>...</td>\n      <td>...</td>\n    </tr>\n    <tr>\n      <th>1014</th>\n      <td>2</td>\n      <td>10.08</td>\n    </tr>\n    <tr>\n      <th>730</th>\n      <td>2</td>\n      <td>10.08</td>\n    </tr>\n    <tr>\n      <th>14</th>\n      <td>2</td>\n      <td>10.08</td>\n    </tr>\n    <tr>\n      <th>332</th>\n      <td>2</td>\n      <td>10.08</td>\n    </tr>\n    <tr>\n      <th>393</th>\n      <td>2</td>\n      <td>10.08</td>\n    </tr>\n  </tbody>\n</table>\n<p>1834 rows × 2 columns</p>\n</div>"
     },
     "execution_count": 23,
     "metadata": {},
     "output_type": "execute_result"
    }
   ],
   "source": [
    "# 가장 비싼 주문에서 아이템이 총 몇 개 팔렸는가\n",
    "df_chipotle.groupby('order_id').sum().sort_values(by = 'item_price', ascending = False)\n",
    "# 총 몇 개 팔린지 봐야하니 sum()사용\n",
    "# 그럼 가장 비싼 가격이 23번 팔린거 보임"
   ],
   "metadata": {
    "collapsed": false,
    "pycharm": {
     "name": "#%%\n"
    }
   }
  },
  {
   "cell_type": "code",
   "execution_count": 24,
   "outputs": [],
   "source": [
    "# 특정 아이템이 몇 번 주문되었는지 구하는 방법\n",
    "def item_name_quantity_count(df, item_name):\n",
    "    '''\n",
    "    특정 아이템이 몇 번 주문되었는지 나타냄\n",
    "    :param df: 데이터 프레임\n",
    "    :param item_name: 아이템 이름\n",
    "    :return:\n",
    "    '''\n",
    "    result = df[df['item_name'] == item_name] # df[df.item_name == item_name] 이랑 동일함\n",
    "    result = result.drop_duplicates(['item_name','order_id'])\n",
    "    print(f\"{item_name} 주문 횟수 : {len(result)}\")\n",
    "    return result"
   ],
   "metadata": {
    "collapsed": false,
    "pycharm": {
     "name": "#%%\n"
    }
   }
  },
  {
   "cell_type": "markdown",
   "source": [
    "**팁**\n",
    "중복 데이터을 확인 및 중복 데이터 제거하는 법\n",
    "\n",
    "데이터 분석에있어 의도하지 않은 중복 데이터는 매우 심각한 영향을 끼친다.\n",
    "따라서 데이터 분석에 들어가기 전에 반드시 한번 해볼 필요가 있다.\n",
    "\n",
    "- 중복 여부 확인 : **duplicated()**\n",
    "- 중복 처리 : **drop_duplicated()**"
   ],
   "metadata": {
    "collapsed": false
   }
  },
  {
   "cell_type": "code",
   "execution_count": 25,
   "outputs": [
    {
     "name": "stdout",
     "output_type": "stream",
     "text": [
      "Salad 주문 횟수 : 1\n"
     ]
    },
    {
     "data": {
      "text/plain": "     order_id  quantity item_name  \\\n1414      575         1     Salad   \n\n                                     choice_description  item_price  \n1414  [Brown Rice, Adobo-Marinated and Grilled Chick...         7.4  ",
      "text/html": "<div>\n<style scoped>\n    .dataframe tbody tr th:only-of-type {\n        vertical-align: middle;\n    }\n\n    .dataframe tbody tr th {\n        vertical-align: top;\n    }\n\n    .dataframe thead th {\n        text-align: right;\n    }\n</style>\n<table border=\"1\" class=\"dataframe\">\n  <thead>\n    <tr style=\"text-align: right;\">\n      <th></th>\n      <th>order_id</th>\n      <th>quantity</th>\n      <th>item_name</th>\n      <th>choice_description</th>\n      <th>item_price</th>\n    </tr>\n  </thead>\n  <tbody>\n    <tr>\n      <th>1414</th>\n      <td>575</td>\n      <td>1</td>\n      <td>Salad</td>\n      <td>[Brown Rice, Adobo-Marinated and Grilled Chick...</td>\n      <td>7.4</td>\n    </tr>\n  </tbody>\n</table>\n</div>"
     },
     "execution_count": 25,
     "metadata": {},
     "output_type": "execute_result"
    }
   ],
   "source": [
    "result = item_name_quantity_count(df_chipotle, 'Salad')\n",
    "result"
   ],
   "metadata": {
    "collapsed": false,
    "pycharm": {
     "name": "#%%\n"
    }
   }
  },
  {
   "cell_type": "code",
   "execution_count": 26,
   "outputs": [],
   "source": [
    "def quantity_count(df, item_name, N):\n",
    "    '''\n",
    "    특정 아이템을 N개 이상 구매한 고객들의 총 주문 수량 출력\n",
    "    :param df: 데이터 프레임\n",
    "    :param item_name: 아이템 이름\n",
    "    :param N : 구매 개수\n",
    "    :return:\n",
    "    '''\n",
    "    df_item_name = df[df['item_name'] == item_name]\n",
    "    df_item_name_order_sum = df_item_name.groupby('order_id').sum()['quantity']\n",
    "    # df_item_name_order_sum = df_item_name_order_sum['quantity']\n",
    "    # 11번 라인의 마지막 ['quantity'] 부분은 12번 라인과 같은 의미를 가짐\n",
    "    result = df_item_name_order_sum[df_item_name_order_sum >= N]\n",
    "    print(f\"{item_name}의 {N}개 이상 고객들의 총 주문 수량은 {len(result)}\")\n",
    "    return result"
   ],
   "metadata": {
    "collapsed": false,
    "pycharm": {
     "name": "#%%\n"
    }
   }
  },
  {
   "cell_type": "code",
   "execution_count": 27,
   "outputs": [
    {
     "name": "stdout",
     "output_type": "stream",
     "text": [
      "Chicken Bowl의 2개 이상 고객들의 총 주문 수량은 114\n"
     ]
    },
    {
     "data": {
      "text/plain": "order_id\n1004    2\n1023    2\n1072    2\n1078    2\n1091    2\nName: quantity, dtype: int64"
     },
     "execution_count": 27,
     "metadata": {},
     "output_type": "execute_result"
    }
   ],
   "source": [
    "result = quantity_count(df_chipotle, \"Chicken Bowl\", 2)\n",
    "result.head()"
   ],
   "metadata": {
    "collapsed": false,
    "pycharm": {
     "name": "#%%\n"
    }
   }
  },
  {
   "cell_type": "code",
   "execution_count": 29,
   "outputs": [
    {
     "data": {
      "text/plain": "<Figure size 432x288 with 2 Axes>",
      "image/png": "[encoded data removed]"
     },
     "metadata": {},
     "output_type": "display_data"
    }
   ],
   "source": [],
   "metadata": {
    "collapsed": false,
    "pycharm": {
     "name": "#%%\n"
    }
   }
  },
  {
   "cell_type": "markdown",
   "source": [
    "# 끝"
   ],
   "metadata": {
    "collapsed": false
   }
  }
 ],
 "metadata": {
  "kernelspec": {
   "display_name": "Python 3",
   "language": "python",
   "name": "python3"
  },
  "language_info": {
   "codemirror_mode": {
    "name": "ipython",
    "version": 2
   },
   "file_extension": ".py",
   "mimetype": "text/x-python",
   "name": "python",
   "nbconvert_exporter": "python",
   "pygments_lexer": "ipython2",
   "version": "2.7.6"
  }
 },
 "nbformat": 4,
 "nbformat_minor": 0
}