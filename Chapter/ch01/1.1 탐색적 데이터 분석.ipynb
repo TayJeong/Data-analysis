{
 "cells": [
  {
   "cell_type": "markdown",
   "source": [
    "# 탐색적 데이터 분석의 과정\n",
    "\n",
    "데이터의 정보를 파악하며 문제 해결에 필요한 힌트를 분석하는 과정이다."
   ],
   "metadata": {
    "collapsed": false
   }
  },
  {
   "cell_type": "markdown",
   "source": [
    "## 데이터와의 첫 만남\n",
    "\n",
    "실제 접하는 대부분의 데이터는 아직 분석에 활용된 적이 없는 데이터(raw data)\n",
    "\n",
    "보통 흐름에 대해서 알아봐야하는데\n",
    "1. 데이터 출처, 주제 이해\n",
    "2. 데이터의 크기 파악\n",
    "   2-1. 크기에 따른 특별한 종류의 샘플링이 필요하기도 한다.\n",
    "3. 데이터의 구성 요소(피처)를 살펴본다.\n",
    "\n",
    "**샘플링** : 어떤 자료에서 일부의 값을 추출하는 작업. 주로 데이터가 매우 크면 좋은 효과를 보임\n",
    "**피처** : 데이터를 구성하는 요소 (길이, 무게 등)"
   ],
   "metadata": {
    "collapsed": false,
    "pycharm": {
     "name": "#%% md\n"
    }
   }
  }
 ],
 "metadata": {
  "kernelspec": {
   "display_name": "Python 3",
   "language": "python",
   "name": "python3"
  },
  "language_info": {
   "codemirror_mode": {
    "name": "ipython",
    "version": 2
   },
   "file_extension": ".py",
   "mimetype": "text/x-python",
   "name": "python",
   "nbconvert_exporter": "python",
   "pygments_lexer": "ipython2",
   "version": "2.7.6"
  }
 },
 "nbformat": 4,
 "nbformat_minor": 0
}